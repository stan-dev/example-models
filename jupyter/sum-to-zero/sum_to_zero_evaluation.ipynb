{
 "cells": [
  {
   "cell_type": "markdown",
   "metadata": {},
   "source": [
    "# The Sum-to-Zero Constraint in Stan\n",
    "\n",
    "\n",
    "Mitzi Morris\n",
    "\n",
    "Stan Development Team\n",
    "\n"
   ]
  },
  {
   "cell_type": "code",
   "execution_count": null,
   "metadata": {},
   "outputs": [],
   "source": [
    "# libraries used in this notebook\n",
    "import os\n",
    "import numpy as np\n",
    "import pandas as pd\n",
    "import geopandas as gpd\n",
    "import plotnine as p9\n",
    "import libpysal\n",
    "from splot.libpysal import plot_spatial_weights \n",
    "from random import randint\n",
    "\n",
    "from cmdstanpy import CmdStanModel\n",
    "import logging\n",
    "cmdstanpy_logger = logging.getLogger(\"cmdstanpy\")\n",
    "cmdstanpy_logger.setLevel(logging.ERROR)\n",
    "\n",
    "import warnings\n",
    "warnings.filterwarnings('ignore')\n",
    "\n",
    "import matplotlib\n",
    "import matplotlib.pyplot as plt\n",
    "%matplotlib inline\n",
    "\n",
    "# notebook display options\n",
    "plt.rcParams['figure.figsize'] = (7, 7)\n",
    "plt.rcParams['figure.dpi'] = 100\n",
    "\n",
    "np.set_printoptions(precision=2)\n",
    "np.set_printoptions(suppress=True)\n",
    "pd.set_option('display.precision', 2)\n",
    "pd.options.display.float_format = '{:.2f}'.format\n",
    "\n",
    "\n",
    "# helper functions\n",
    "\n",
    "def extract_numeric_index(idx: pd.Index) -> pd.Series:\n",
    "    return idx.str.extract(r'[a-z_]*\\[(\\d+)\\]', expand=False).astype(int)\n",
    "\n",
    "# add dividers every nth row\n",
    "from pandas.io.formats.style import Styler\n",
    "def style_dataframe(df: pd.DataFrame, modulus: int) -> Styler:\n",
    "    def highlight_every_nth_row(row: pd.Series, row_index: int, modulus: int) -> list[str]:\n",
    "        if (row_index + 1) % modulus == 0:  # add border\n",
    "            return ['border-bottom: 3px double black'] * len(row)\n",
    "        return [''] * len(row)\n",
    "    return (df.style\n",
    "              .apply(lambda row: highlight_every_nth_row(row, df.index.get_loc(row.name), modulus), axis=1)\n",
    "              .format(precision=2)\n",
    "           )\n",
    "\n",
    "\n",
    "# Filter and sort predictors\n",
    "def summarize_predictor(df: pd.DataFrame, name: str) -> pd.DataFrame:\n",
    "    pred_summary = df.filter(regex=name, axis=0).sort_index()\n",
    "    if \"[\" in name:\n",
    "        pred_summary = pred_summary.sort_index(key=extract_numeric_index)\n",
    "    \n",
    "    return pred_summary[['Mean', 'StdDev', 'ESS_bulk', 'ESS/sec', 'R_hat']]\n",
    "\n",
    "\n",
    "# side-by-side tables\n",
    "from IPython.core.display import display, HTML\n",
    "def display_side_by_side(\n",
    "    html_left: str,\n",
    "    html_right: str,\n",
    "    title_left: str = \"Small Dataset\",\n",
    "    title_right: str = \"Large Dataset\"\n",
    ") -> None:\n",
    "    \"\"\"\n",
    "    Displays two HTML tables side by side in a Jupyter Notebook.\n",
    "    \"\"\"\n",
    "    html_code = f\"\"\"\n",
    "    <div style=\"display: flex; justify-content: space-between; gap: 10px;\">\n",
    "        <div style=\"width: 48%; border: 1px solid #ddd; padding: 5px;\">\n",
    "            <b><i>{title_left}</i></b>\n",
    "            {html_left}\n",
    "        </div>\n",
    "        <div style=\"width: 48%; border: 1px solid #ddd; padding: 5px;\">\n",
    "            <b><i>{title_right}</i></b>\n",
    "            {html_right}\n",
    "        </div>\n",
    "    </div>\n",
    "    \"\"\"\n",
    "    display(HTML(html_code))"
   ]
  },
  {
   "cell_type": "markdown",
   "metadata": {},
   "source": [
    "## Introducing the `sum_to_zero_vector` Constrained Parameter Type\n",
    "\n",
    " \n",
    "The [`sum_to_zero_vector`](https://mc-stan.org/docs/reference-manual/transforms.html#zero-sum-vector)\n",
    "constrained parameter type was introduced in the [Stan 2.36 release](https://github.com/stan-dev/cmdstan/releases/tag/v2.36.0).\n",
    "\n",
    "The parameter declaration:\n",
    "\n",
    "```stan\n",
    "  sum_to_zero_vector[K] beta;\n",
    "```\n",
    "produces a vector of size `K` such that `sum(beta) = 0`.\n",
    "The unconstrained representation requires only `K - 1` values because the\n",
    "last is determined by the first `K - 1`.\n",
    "\n",
    "Further discussion is in [this post on the Stan Discourse forums](https://discourse.mc-stan.org/t/zero-sum-vector-and-normal-distribution/38296)\n",
    "\n",
    ">A sum to zero vector is exactly what the name suggests. A vector where the sum of the elements equals 0.\n",
    "If you put a normal prior on the zero-sum vector the resulting variance will be less than the intended normal variance.\n",
    "To get the same variance as the intended normal prior do\n",
    "\n",
    "```stan\n",
    "parameters {\n",
    "  sum_to_zero_vector[N] z;\n",
    "}\n",
    "model {\n",
    "  z ~ normal(0, sqrt(N * inv(N - 1)) * sigma)\n",
    "}\n",
    "```\n",
    ">where sigma is the intended standard deviation. FYI, it’s a bit more efficient to pre-calculate the `sqrt(N * inv(N - 1))` in transformed_data.\n",
    "The general result to get a given variance from a normal with linear constraints is in: Fraser, D. A. S. (1951).\n",
    "Normal Samples With Linear Constraints and Given Variances. Canadian Journal of Mathematics, 3, 363–366. [doi:10.4153/CJM-1951-041-9](https://doi.org/10.4153/CJM-1951-041-9).\n",
    "\n",
    "Prior to Stan 2.36, a sum-to-zero constraint could be implemented in one of two ways:\n",
    "\n",
    "- As a \"hard\" sum to zero constraint, where the parameter is declared to be an $N-1$ length vector with a corresponding $N$-length transformed parameter\n",
    "whose first $N-1$ elements are the same as the corresponding parameter vector, and the $N^{th}$ element is the negative sum of the $N-1$ elements.\n",
    "\n",
    "\n",
    "- As a \"soft\" sum to zero constraint with an $N$-length parameter vector whose sum is constrained to be within $\\epsilon$ of $0$.\n",
    "\n",
    "Up until now, users had to choose between the hard or soft sum-to-zero constraint, without clear guidance.\n",
    "As a general rule, for small vectors, the hard sum-to-zero constraint is more efficient;\n",
    "for larger vectors, the soft sum-to-zero constraint is faster,\n",
    "but much depends on the specifics of the model and the data.\n",
    "\n",
    "\n",
    "For small $N$ and models with sensible priors, the hard sum-to-zero is usually satisfactory.\n",
    "But as the size of the vector grows, it distorts the marginal variance of the $N^{th}$.\n",
    "Given a parameter vector:\n",
    "$$\n",
    "x_1, x_2, \\dots, x_{N-1} \\sim \\text{i.i.d. } N(0, \\sigma^2)\n",
    "$$\n",
    "by the properties of independent normal variables, each of the free elements $x_1, \\ldots, x_{N-1}$ has variance $\\sigma^2$.\n",
    "However, the $N^{th}$ element is defined deterministically as:\n",
    "$$\n",
    "x_N = -\\sum_{i=1}^{N-1} x_i\n",
    "$$\n",
    "and its variance is inflated by a factor of $N-1$.\n",
    "$$\n",
    "\\operatorname{Var}(x_N) = \\operatorname{Var}\\Bigl(-\\sum_{i=1}^{N-1} x_i\\Bigr)\n",
    "= \\sum_{i=1}^{N-1} \\operatorname{Var}(x_i)\n",
    "= (N-1)\\sigma^2.\n",
    "$$\n",
    "For large vectors, MCMC samplers struggle with the hard sum-to-zero constraint,\n",
    "as every change to any of the $N-1$ elements also requires a corresponding change to\n",
    "the $N^{th}$ element; balancing these changes introduces potential non-identifiabilities.\n",
    "\n",
    "The soft sum-to-zero constraint is problematic for the following reasons.\n",
    "\n",
    "* The tolerance $\\epsilon$ (the scale of the penalty) must be chosen by the analyst.  Too large,\n",
    "and the result is too far from zero to be effective, too small and the sampler cannot satisfy the\n",
    "constraint.\n",
    "* The soft constraint only penalizes deviations from zero, leading to weaker identifiability of the parameters.\n",
    "This can lead to slow convergence and mixing, as the sampler explores nearly non-identified regions.\n",
    "* The marginal variances may not reflect the intended prior.\n",
    "\n",
    "The `sum_to_zero_vector` transform ensures that each element of the resulting constrained vector has the same variance.\n",
    "This improves the sampler performance, providing fast computation and good effective sample size.\n",
    "This becomes increasingly noticeable as models increase in size and complexity.\n",
    "To demonstrate this, in this notebook we consider two different classes of models:\n",
    "\n",
    "- Multi-level regressions for binomial data with group-level categorical predictors.\n",
    "- Spatial models for areal data.\n",
    "\n",
    "<div class=\"alert alert-block alert-info\">\n",
    "The spatial models are taken from the a set of notebooks available from GitHub repo <a herf=https://github.com/mitzimorris/geomed_2024>https://github.com/mitzimorris/geomed_2024</a>.\n",
    "</div>\n",
    "\n",
    "For these models, we provide three implementations which differ only in the\n",
    "implementation of the sum-to-zero constraint:  the built-in `sum_to_zero_vector`,\n",
    "and the hard and soft sum-to-zero implementations.\n",
    "We fit each model to the same dataset, using the same random seed, and then\n",
    "compare the summary statistics for the constrained parameter values.\n",
    "Since the models are equivalent, we expect that all three implementations\n",
    "should produce the same estimates; what differs is the speed of computation,\n",
    "as measured by effective samples per second.\n",
    "\n",
    "Included in the GitHub repository for this notebook are a series of helper functions.\n",
    "\n",
    "* [utils_dataviz.py](https://github.com/stan-dev/example-models/tree/master/jupyter/sum-to-zero/stan/utils_dataviz.py) - summarize and plot the posterior sample.\n",
    "* [utils_bym2.py](https://github.com/stan-dev/example-models/tree/master/jupyter/sum-to-zero/stan/utils_bym2.py) - compute data inputs to the BYM2 model.\n",
    "* [utils_nyc_map.py](https://github.com/stan-dev/example-models/tree/master/jupyter/sum-to-zero/stan/utils_nyc_map.py) - munge the New York City census tract map.\n",
    "\n",
    "\n",
    "\n",
    "\n",
    "\n",
    "## Multi-level Models with Group-level Categorical Predictors\n",
    "\n",
    "In this section we consider a model which estimates per-demographic disease prevalence rates for a population.\n",
    "The model is taken from the Gelman and Carpenter, 2020\n",
    "[Bayesian Analysis of Tests with Unknown Specificity and Sensitivity](https://doi.org/10.1111/rssc.12435).\n",
    "It combines a model for multilevel regression and post-stratification with a likelihood that\n",
    "accounts for test sensitivity and specificity.\n",
    "\n",
    "The data consists of:\n",
    "\n",
    "* A set of per-demographic aggregated outcomes of a diagnostic test procedure\n",
    "with unequal number of tests per demographic.\n",
    "\n",
    "* A corresponding set of demographic descriptors encoded as a vector of categorical values.\n",
    "In this example these are named `sex`, `age`, `eth`, and `edu`, but there can be any number\n",
    "of demographic predictors with any number of categories.\n",
    "\n",
    "* The specified test sensitivity and specificity\n",
    "\n",
    "In order to fit this model, we need to put a sum-to-zero constraint on the categorical variables.\n",
    "\n",
    "\n",
    "### The Stan model\n",
    "\n",
    "\n",
    "The full model is in file [binomial_4_preds_ozs.stan](https://github.com/stan-dev/example-models/tree/master/jupyter/sum-to-zero/stan/binomial_4_preds_ozs.stan).\n",
    "It provides an estimate of the true prevalence based on binary tests with\n",
    "a given (or unknown) test sensitivity and specificity as follows.\n",
    "\n",
    "```stan\n",
    "transformed parameters {\n",
    "  // true prevalence\n",
    "  vector[N] p = inv_logit(beta_0 + beta_sex * sex_c + beta_age[age]\n",
    "\t\t\t  + beta_eth[eth] + beta_edu[edu]);\n",
    "  // incorporate test sensitivity and specificity.\n",
    "  vector[N] p_sample = p * sens + (1 - p) * (1 - spec);\n",
    "}\n",
    "model {\n",
    "  pos_tests ~ binomial(tests, p_sample);  // likelihood\n",
    "  ...\n",
    "```\n",
    "\n",
    "To constrain the group-level parameters `age`, `eth`, and `edu`,\n",
    "we use the `sum_to_zero_vector`.\n",
    "\n",
    "```stan\n",
    "parameters {\n",
    "  real beta_0;\n",
    "  real beta_sex;\n",
    "  real<lower=0> sigma_age, sigma_eth, sigma_edu;\n",
    "  sum_to_zero_vector[N_age] beta_age;\n",
    "  sum_to_zero_vector[N_eth] beta_eth;\n",
    "  sum_to_zero_vector[N_edu] beta_edu;\n",
    "}\n",
    "```\n",
    "\n",
    "In order to put a standard normal prior on `beta_age`, `beta_eth`, and `beta_edu`,\n",
    "we need to scale the variance, as suggested above.\n",
    "The scaling factors are pre-computed in the `transformed data` block,\n",
    "and applied as part of the prior.\n",
    "\n",
    "```stan\n",
    "transformed data {\n",
    "  // scaling factors for marginal variances of sum_to_zero_vectors\n",
    "  real s_age = sqrt(N_age * inv(N_age - 1));\n",
    "  real s_eth = sqrt(N_eth * inv(N_eth - 1));\n",
    "  real s_edu = sqrt(N_edu * inv(N_edu - 1));\n",
    "}\n",
    "  ...\n",
    "model {\n",
    "  ...\n",
    "  // centered parameterization\n",
    "  // scale normal priors on sum_to_zero_vectors\n",
    "  beta_age ~ normal(0, s_age * sigma_age);\n",
    "  beta_eth ~ normal(0, s_eth * sigma_eth);\n",
    "  beta_edu ~ normal(0, s_edu * sigma_edu);\n",
    "}\n",
    "```\n",
    "\n",
    "\n",
    "### The data-generating program\n",
    "\n",
    "To investigate the predictive behavior of this model at different timepoints in a pandemic,\n",
    "we have written a data-generating program to create datasets given the\n",
    "baseline disease prevalence, test specificity and sensitivity,\n",
    "the specified total number of diagnostic tests.\n",
    "\n",
    "In the `generated quantities` block we use Stan's PRNG functions to populate\n",
    "the true weights for the categorical coefficient vectors, and the relative percentages\n",
    "of per-category observations.\n",
    "Then we use a set of nested loops to generate the data for each demographic,\n",
    "using the PRNG equivalent of the model likelihood.\n",
    "\n",
    "* Because the modeled data `pos_tests` is generated according to the Stan model's likelihood,\n",
    "the model is a priori well-specified with respect to the data.\n",
    "\n",
    "* Because the true parameters are defined in the `generated quantities` block,\n",
    "each sample provides a datasets from a different set of regression covariates\n",
    "and with different amounts of per-demographic data.\n",
    "\n",
    "The full data-generating program is in file [gen_binomial_4_preds.stan](https://github.com/stan-dev/example-models/tree/master/jupyter/sum-to-zero/stan/gen_binomial_4_preds.stan).\n",
    "Here we show the nested loop which generates the modeled and unmodeled data inputs.\n",
    "\n",
    "```stan\n",
    "transformed data {\n",
    "  int strata = 2 * N_age * N_eth * N_edu;\n",
    "}\n",
    "generated quantities {\n",
    "  ...\n",
    "  // generate true parameters via PRNG functions\n",
    "  ...\n",
    "  array[strata] int sex, age, eth, edu, pos_tests, tests;\n",
    "  array[strata] real p;\n",
    "  array[strata] real p_sample;\n",
    "\n",
    "  int idx = 1;\n",
    "  for (i_sex in 1:2) {\n",
    "    for (i_age in 1:N_age) {\n",
    "      for (i_eth in 1:N_eth) {\n",
    "        for (i_edu in 1:N_edu) {\n",
    "\n",
    "\t  // corresponds to unmodeled data inputs\n",
    "          sex[idx] = i_sex; age[idx] = i_age; eth[idx] = i_eth; edu[idx] = i_edu;\n",
    "          tests[idx] = to_int(pct_sex[i_sex] * pct_age[i_age]\n",
    "\t                      * pct_eth[i_eth] * pct_edu[i_edu] * N);\n",
    "\n",
    "\t  // corresponds to transformed parameters\n",
    "          p[idx] = inv_logit(beta_0 + beta_sex * (i_sex)\n",
    "                    + beta_age[i_age] + beta_eth[i_eth] +  beta_edu[i_edu]);\n",
    "          p_sample[idx] = p[idx] * sens + (1 - p[idx]) * (1 - spec);\n",
    "\n",
    "\t  // corresponds to likelihood\n",
    "          pos_tests[idx] = binomial_rng(tests[idx], p_sample[idx]);\n",
    "          idx += 1;\n",
    "        }}}}\n",
    "```\n",
    "\n",
    "<div class=\"alert alert-block alert-info\">\n",
    "The above set of nested for loops used here to generate the data\n",
    "is that same as would be used do to post-stratification the fitted model predictors.\n",
    "See section <a href=https://mc-stan.org/docs/stan-users-guide/poststratification.html#coding-mrp-in-stan>\n",
    "Coding MRP in Stan</a> in the Stan User's Guide.\n",
    "</div>\n",
    "\n",
    "### Creating Simulated Datasets\n",
    "\n",
    "The data generating program allows us to create datasets for large and small populations\n",
    "and for finer or more coarse-grained sets of categories.\n",
    "The larger the number of strata overall, the more observations are needed to get good coverage.\n",
    "\n",
    "\n",
    "##### Instantiate the data generating model."
   ]
  },
  {
   "cell_type": "code",
   "execution_count": null,
   "metadata": {},
   "outputs": [],
   "source": [
    "datagen_model_file = os.path.join('stan', 'gen_binomial_4_preds.stan')\n",
    "gen_mod = CmdStanModel(stan_file=datagen_model_file)"
   ]
  },
  {
   "cell_type": "markdown",
   "metadata": {},
   "source": [
    "##### Specify the number of categories for age, eth, and edu."
   ]
  },
  {
   "cell_type": "code",
   "execution_count": null,
   "metadata": {},
   "outputs": [],
   "source": [
    "gen_data_dict = {\n",
    "    'N_eth':3, 'N_edu':5, 'N_age':9, \n",
    "    'baseline': -3.5, 'sens': 0.75, 'spec': 0.9995}\n",
    "\n",
    "strata = 2 * gen_data_dict['N_age'] * gen_data_dict['N_eth'] * gen_data_dict['N_edu']"
   ]
  },
  {
   "cell_type": "markdown",
   "metadata": {},
   "source": [
    "###### Specify the total number of observations.\n",
    "\n",
    "We generate two datasets:  one with a small number of observations, relative to the number of strata,\n",
    "and one with sufficient data to provide information on all combinations of demographics."
   ]
  },
  {
   "cell_type": "code",
   "execution_count": null,
   "metadata": {},
   "outputs": [],
   "source": [
    "gen_data = gen_data_dict.copy()\n",
    "gen_data['N'] = strata * 17\n",
    "\n",
    "gen_data_lg = gen_data_dict.copy()\n",
    "gen_data_lg['N'] = strata * 200\n",
    "\n",
    "gen_data_tiny = gen_data_dict.copy()\n",
    "gen_data_tiny['N'] = strata * 7"
   ]
  },
  {
   "cell_type": "markdown",
   "metadata": {},
   "source": [
    "##### Run 1 sampling iteration to get a complete dataset."
   ]
  },
  {
   "cell_type": "code",
   "execution_count": null,
   "metadata": {},
   "outputs": [],
   "source": [
    "sim_data = gen_mod.sample(data=gen_data,\n",
    "                          iter_warmup=1, iter_sampling=1, chains=1, seed=45678)\n",
    "\n",
    "sim_data_lg = gen_mod.sample(data=gen_data_lg,\n",
    "                          iter_warmup=1, iter_sampling=1, chains=1, seed=45678)\n",
    "\n",
    "sim_data_tiny = gen_mod.sample(data=gen_data_tiny,\n",
    "                          iter_warmup=1, iter_sampling=1, chains=1, seed=45678)"
   ]
  },
  {
   "cell_type": "markdown",
   "metadata": {},
   "source": [
    "##### Examine the set of generated data-generating params and resulting dataset."
   ]
  },
  {
   "cell_type": "code",
   "execution_count": null,
   "metadata": {},
   "outputs": [],
   "source": [
    "print(f'Small dataset: N = {gen_data[\"N\"]}, strata = {strata}, expected obs per demographic {gen_data[\"N\"] / strata}')\n",
    "print(f'Large dataset: N = {gen_data_lg[\"N\"]}, strata = {strata}, expected obs per demographic {gen_data_lg[\"N\"] / strata}')\n",
    "for var, value in sim_data.stan_variables().items():\n",
    "    print(var, value[0]) if isinstance(value[0], np.float64) else print(var, value[0][:10])"
   ]
  },
  {
   "cell_type": "markdown",
   "metadata": {},
   "source": [
    "What is the distribution of the observed number of tests per demographic?"
   ]
  },
  {
   "cell_type": "code",
   "execution_count": null,
   "metadata": {},
   "outputs": [],
   "source": [
    "tests = pd.Series(sim_data.stan_variable('tests')[0])\n",
    "print(\"Small dataset, tests per demographic\", tests.describe())"
   ]
  },
  {
   "cell_type": "code",
   "execution_count": null,
   "metadata": {},
   "outputs": [],
   "source": [
    "tests_lg = pd.Series(sim_data_lg.stan_variable('tests')[0])\n",
    "print(\"Large dataset, tests per demographic\", tests_lg.describe())"
   ]
  },
  {
   "cell_type": "code",
   "execution_count": null,
   "metadata": {},
   "outputs": [],
   "source": [
    "tests_tiny = pd.Series(sim_data_tiny.stan_variable('tests')[0])\n",
    "print(\"Tiny dataset, tests per demographic\", tests_tiny.describe())"
   ]
  },
  {
   "cell_type": "markdown",
   "metadata": {},
   "source": [
    "##### Plot the distribution of observed positive tests and the underlying prevalence.\n",
    "\n",
    "Because the data-generating parameters and percentage of observations per category are generated at random,\n",
    "some datasets may have very low overall disease rates and/or many unobserved strata, and will therefore be\n",
    "pathologically hard to fit.  This is informative for understanding what is consistent when\n",
    "generating a set of percentages and regression weights as is done in the Stan data generating program.\n",
    "\n",
    "```stan\n",
    "  vector[N_eth] pct_eth = dirichlet_rng(rep_vector(1, N_eth));\n",
    "  for (n in 1:N_eth) {\n",
    "    beta_eth[n] = std_normal_rng();\n",
    "  }\n",
    "```\n",
    "\n",
    "However, this can result in very unbalanced datasets, in which case it is best to\n",
    "generate another dataset and continue."
   ]
  },
  {
   "cell_type": "code",
   "execution_count": null,
   "metadata": {},
   "outputs": [],
   "source": [
    "sim_df = pd.DataFrame({'tests':sim_data.tests[0], 'pos_tests':sim_data.pos_tests[0], 'p_sample':sim_data.p_sample[0]})\n",
    "sim_df['raw_prev'] = sim_df['pos_tests'] / sim_df['tests']\n",
    "(\n",
    "    p9.ggplot(sim_df)\n",
    "    + p9.geom_density(p9.aes(x='raw_prev'), color='darkblue', fill='blue', alpha=0.3)\n",
    "    + p9.geom_density(p9.aes(x='p_sample'), color='darkorange', fill='pink', alpha=0.3)\n",
    "    + p9.labs(\n",
    "        x='raw prevalence',\n",
    "        y='',\n",
    "        title='Observed (blue) and underlying true prevalence (pink)\\nsmall dataset'\n",
    "    )\n",
    "    + p9.theme_minimal()\n",
    ")"
   ]
  },
  {
   "cell_type": "code",
   "execution_count": null,
   "metadata": {},
   "outputs": [],
   "source": [
    "sim_df = pd.DataFrame({'tests':sim_data_lg.tests[0], 'pos_tests':sim_data_lg.pos_tests[0], 'p_sample':sim_data_lg.p_sample[0]})\n",
    "sim_df['raw_prev'] = sim_df['pos_tests'] / sim_df['tests']\n",
    "(\n",
    "    p9.ggplot(sim_df)\n",
    "    + p9.geom_density(p9.aes(x='raw_prev'), color='darkblue', fill='blue', alpha=0.3)\n",
    "    + p9.geom_density(p9.aes(x='p_sample'), color='darkorange', fill='pink', alpha=0.3)\n",
    "    + p9.labs(\n",
    "        x='raw prevalence',\n",
    "        y='',\n",
    "        title='Observed (blue) and underlying true prevalence (pink)\\nlarge dataset'\n",
    "    )\n",
    "    + p9.theme_minimal()\n",
    ")"
   ]
  },
  {
   "cell_type": "markdown",
   "metadata": {},
   "source": [
    "### Model Fitting\n",
    "\n",
    "Assemble the data dictionary of all input data for the model which solves the inverse problem -\n",
    "i.e., estimates regression coefficients given the observed data.\n",
    "We use the generated data as the inputs.\n",
    "Because the output files are real-valued outputs, regardless of variable element type,\n",
    "model data variables of type int need to be cast to int.\n",
    "Here all the observed data is count and categorial data."
   ]
  },
  {
   "cell_type": "code",
   "execution_count": null,
   "metadata": {},
   "outputs": [],
   "source": [
    "data_fixed = {'N':sim_data.pos_tests.shape[1], \n",
    "              'N_age':gen_data_dict['N_age'], \n",
    "              'N_eth':gen_data_dict['N_eth'],\n",
    "              'N_edu':gen_data_dict['N_edu'],\n",
    "              'sens': gen_data_dict['sens'],\n",
    "              'spec': gen_data_dict['spec'],\n",
    "              'intercept_prior_mean': gen_data_dict['baseline'],\n",
    "              'intercept_prior_scale': 2.5}\n",
    "\n",
    "data_small = data_fixed | {'pos_tests':sim_data.pos_tests[0].astype(int),\n",
    "             'tests':sim_data.tests[0].astype(int),\n",
    "             'sex':sim_data.sex[0].astype(int),\n",
    "             'age':sim_data.age[0].astype(int), \n",
    "             'eth':sim_data.eth[0].astype(int),\n",
    "             'edu':sim_data.edu[0].astype(int)}\n",
    "\n",
    "data_large = data_fixed | {'pos_tests':sim_data_lg.pos_tests[0].astype(int),\n",
    "             'tests':sim_data_lg.tests[0].astype(int),\n",
    "             'sex':sim_data_lg.sex[0].astype(int),\n",
    "             'age':sim_data_lg.age[0].astype(int), \n",
    "             'eth':sim_data_lg.eth[0].astype(int),\n",
    "             'edu':sim_data_lg.edu[0].astype(int)}\n",
    "\n",
    "data_tiny = data_fixed | {'pos_tests':sim_data_tiny.pos_tests[0].astype(int),\n",
    "             'tests':sim_data_tiny.tests[0].astype(int),\n",
    "             'sex':sim_data_tiny.sex[0].astype(int),\n",
    "             'age':sim_data_tiny.age[0].astype(int), \n",
    "             'eth':sim_data_tiny.eth[0].astype(int),\n",
    "             'edu':sim_data_tiny.edu[0].astype(int)}"
   ]
  },
  {
   "cell_type": "markdown",
   "metadata": {},
   "source": [
    "Record the data-generating parameters"
   ]
  },
  {
   "cell_type": "code",
   "execution_count": null,
   "metadata": {},
   "outputs": [],
   "source": [
    "true_params = {\n",
    "    'beta_0': sim_data.beta_0[0],\n",
    "    'pct_sex': sim_data.pct_sex[0],\n",
    "    'beta_sex': sim_data.beta_sex[0],\n",
    "    'pct_age': sim_data.pct_age[0],\n",
    "    'beta_age':sim_data.beta_age[0],\n",
    "    'pct_eth': sim_data.pct_eth[0],\n",
    "    'beta_eth':sim_data.beta_eth[0],\n",
    "    'pct_edu': sim_data.pct_edu[0],\n",
    "    'beta_edu':sim_data.beta_edu[0]\n",
    "}\n",
    "true_params"
   ]
  },
  {
   "cell_type": "markdown",
   "metadata": {},
   "source": [
    "#### Model 1: `sum_to_zero_vector`\n",
    "\n",
    "This model is in file [binomial_4_preds_ozs.stan](https://github.com/stan-dev/example-models/tree/master/jupyter/sum-to-zero/stan/binomial_4_preds_ozs.stan)"
   ]
  },
  {
   "cell_type": "code",
   "execution_count": null,
   "metadata": {},
   "outputs": [],
   "source": [
    "binomial_ozs_mod = CmdStanModel(stan_file=os.path.join('stan', 'binomial_4preds_ozs.stan'))"
   ]
  },
  {
   "cell_type": "code",
   "execution_count": null,
   "metadata": {},
   "outputs": [],
   "source": [
    "binomial_ozs_fit = binomial_ozs_mod.sample(data=data_small, parallel_chains=4)"
   ]
  },
  {
   "cell_type": "markdown",
   "metadata": {},
   "source": [
    "Record the seed used for the first run and use it for all subsequent fits."
   ]
  },
  {
   "cell_type": "code",
   "execution_count": null,
   "metadata": {},
   "outputs": [],
   "source": [
    "a_seed = binomial_ozs_fit.metadata.cmdstan_config['seed']"
   ]
  },
  {
   "cell_type": "code",
   "execution_count": null,
   "metadata": {},
   "outputs": [],
   "source": [
    "binomial_ozs_fit_lg = binomial_ozs_mod.sample(data=data_large, parallel_chains=4, seed=a_seed)"
   ]
  },
  {
   "cell_type": "markdown",
   "metadata": {},
   "source": [
    "#### Model 2:  Hard sum-to-zero constraint\n",
    "\n",
    "This model is in file [binomial_4_preds_hard.stan](https://github.com/stan-dev/example-models/tree/master/jupyter/sum-to-zero/stan/binomial_4_preds_hard.stan)"
   ]
  },
  {
   "cell_type": "code",
   "execution_count": null,
   "metadata": {},
   "outputs": [],
   "source": [
    "binomial_hard_mod = CmdStanModel(stan_file=os.path.join('stan', 'binomial_4preds_hard.stan'))"
   ]
  },
  {
   "cell_type": "code",
   "execution_count": null,
   "metadata": {},
   "outputs": [],
   "source": [
    "binomial_hard_fit = binomial_hard_mod.sample(data=data_small, parallel_chains=4, seed=a_seed)"
   ]
  },
  {
   "cell_type": "code",
   "execution_count": null,
   "metadata": {},
   "outputs": [],
   "source": [
    "binomial_hard_fit_lg = binomial_hard_mod.sample(data=data_large, parallel_chains=4, seed=a_seed)"
   ]
  },
  {
   "cell_type": "markdown",
   "metadata": {},
   "source": [
    "#### Model 3:  soft sum-to-zero constraint\n",
    "\n",
    "This model is in file [binomial_4_preds_soft.stan](https://github.com/stan-dev/example-models/tree/master/jupyter/sum-to-zero/stan/binomial_4_preds_soft.stan)"
   ]
  },
  {
   "cell_type": "code",
   "execution_count": null,
   "metadata": {},
   "outputs": [],
   "source": [
    "binomial_soft_mod = CmdStanModel(stan_file=os.path.join('stan', 'binomial_4preds_soft.stan'))"
   ]
  },
  {
   "cell_type": "code",
   "execution_count": null,
   "metadata": {},
   "outputs": [],
   "source": [
    "binomial_soft_fit = binomial_soft_mod.sample(data=data_small, parallel_chains=4, seed=a_seed)"
   ]
  },
  {
   "cell_type": "code",
   "execution_count": null,
   "metadata": {},
   "outputs": [],
   "source": [
    "binomial_soft_fit_lg = binomial_soft_mod.sample(data=data_large, parallel_chains=4, seed=a_seed)"
   ]
  },
  {
   "cell_type": "markdown",
   "metadata": {},
   "source": [
    "#### Runtime performance\n",
    "\n",
    "In the small data regime, the soft-sum to zero takes considerably more wall-clock time to fit the data.\n",
    "On Apple M3 hardware, all three models quickly fit the large dataset.\n",
    "\n",
    "\n",
    "### Model Checking and Comparison\n",
    "\n",
    "#### Check convergence\n",
    "\n",
    "We check the R-hat and effective sample size (ESS) for all group-level parameters.\n",
    "\n",
    "In order to do this multiway comparison, we assemble the individual summaries from the 6 runs above\n",
    "into two dataframes.  We also compute the number of effective samples per second - a key metric of\n",
    "model efficiency.\n",
    "(Note:  we're using a development version of CmdStanPy to scrape time information from the CSV files\n",
    "because changes to CmdStan's `stansummary` function removed the ESS/sec metric.\n",
    "This is a workaround for now)."
   ]
  },
  {
   "cell_type": "code",
   "execution_count": null,
   "metadata": {},
   "outputs": [],
   "source": [
    "# small dataset\n",
    "ozs_fit_summary = binomial_ozs_fit.summary(sig_figs=2)\n",
    "ozs_fit_summary.index =  ozs_fit_summary.index.astype(str) + \"  a) ozs\"\n",
    "ozs_fit_time = binomial_ozs_fit.time\n",
    "ozs_total_time = 0\n",
    "for i in range(len(ozs_fit_time)):\n",
    "    ozs_total_time += ozs_fit_time[i]['total']\n",
    "ozs_fit_summary['ESS/sec'] = ozs_fit_summary['ESS_bulk']/ozs_total_time\n",
    "\n",
    "hard_fit_summary = binomial_hard_fit.summary(sig_figs=2)\n",
    "hard_fit_summary.index = hard_fit_summary.index.astype(str) + \"  b) hard\"\n",
    "hard_fit_time = binomial_hard_fit.time\n",
    "hard_total_time = 0\n",
    "for i in range(len(hard_fit_time)):\n",
    "    hard_total_time += hard_fit_time[i]['total']\n",
    "hard_fit_summary['ESS/sec'] = hard_fit_summary['ESS_bulk']/hard_total_time\n",
    "\n",
    "soft_fit_summary = binomial_soft_fit.summary(sig_figs=2)\n",
    "soft_fit_summary.index = soft_fit_summary.index.astype(str) + \"  c) soft\"\n",
    "soft_fit_time = binomial_soft_fit.time\n",
    "soft_total_time = 0\n",
    "for i in range(len(soft_fit_time)):\n",
    "    soft_total_time += soft_fit_time[i]['total']\n",
    "soft_fit_summary['ESS/sec'] = soft_fit_summary['ESS_bulk']/soft_total_time\n",
    "\n",
    "small_data_fits_summary = pd.concat([ozs_fit_summary, hard_fit_summary, soft_fit_summary])\n",
    "\n",
    "# large dataset\n",
    "ozs_fit_lg_summary = binomial_ozs_fit_lg.summary(sig_figs=2)\n",
    "ozs_fit_lg_summary.index =  ozs_fit_lg_summary.index.astype(str) + \"  a) ozs\"\n",
    "ozs_fit_time_lg = binomial_ozs_fit_lg.time\n",
    "ozs_total_time_lg = 0\n",
    "for i in range(len(ozs_fit_time_lg)):\n",
    "    ozs_total_time_lg += ozs_fit_time_lg[i]['total']\n",
    "ozs_fit_lg_summary['ESS/sec'] = ozs_fit_lg_summary['ESS_bulk']/ozs_total_time_lg\n",
    "\n",
    "hard_fit_lg_summary = binomial_hard_fit_lg.summary(sig_figs=2)\n",
    "hard_fit_lg_summary.index = hard_fit_lg_summary.index.astype(str) + \"  b) hard\"\n",
    "hard_fit_time_lg = binomial_hard_fit_lg.time\n",
    "hard_total_time_lg = 0\n",
    "for i in range(len(hard_fit_time_lg)):\n",
    "    hard_total_time_lg += hard_fit_time_lg[i]['total']\n",
    "hard_fit_lg_summary['ESS/sec'] = hard_fit_lg_summary['ESS_bulk']/hard_total_time_lg\n",
    "\n",
    "soft_fit_lg_summary = binomial_soft_fit_lg.summary(sig_figs=2)\n",
    "soft_fit_lg_summary.index = soft_fit_lg_summary.index.astype(str) + \"  c) soft\"\n",
    "soft_fit_time_lg = binomial_soft_fit_lg.time\n",
    "soft_total_time_lg = 0\n",
    "for i in range(len(soft_fit_time_lg)):\n",
    "    soft_total_time_lg += soft_fit_time_lg[i]['total']\n",
    "soft_fit_lg_summary['ESS/sec'] = soft_fit_lg_summary['ESS_bulk']/soft_total_time_lg\n",
    "\n",
    "large_data_fits_summary = pd.concat([ozs_fit_lg_summary, hard_fit_lg_summary, soft_fit_lg_summary])"
   ]
  },
  {
   "cell_type": "markdown",
   "metadata": {},
   "source": [
    "**Eth**"
   ]
  },
  {
   "cell_type": "code",
   "execution_count": null,
   "metadata": {},
   "outputs": [],
   "source": [
    "beta_eth_summary = summarize_predictor(small_data_fits_summary, 'beta_eth\\[')\n",
    "beta_eth_summary_lg = summarize_predictor(large_data_fits_summary, 'beta_eth\\[')"
   ]
  },
  {
   "cell_type": "code",
   "execution_count": null,
   "metadata": {},
   "outputs": [],
   "source": [
    "small_html = style_dataframe(beta_eth_summary, 3).to_html()\n",
    "large_html = style_dataframe(beta_eth_summary_lg, 3).to_html()\n",
    "display_side_by_side(small_html, large_html)"
   ]
  },
  {
   "cell_type": "code",
   "execution_count": null,
   "metadata": {},
   "outputs": [],
   "source": [
    "print(\"params\", true_params['beta_eth'], \"\\npcts\", true_params['pct_eth'])"
   ]
  },
  {
   "cell_type": "code",
   "execution_count": null,
   "metadata": {},
   "outputs": [],
   "source": [
    "sigma_eth_summary = summarize_predictor(small_data_fits_summary, 'sigma_eth')\n",
    "sigma_eth_summary_lg = summarize_predictor(large_data_fits_summary, 'sigma_eth')\n",
    "\n",
    "small_html = style_dataframe(sigma_eth_summary, 3).to_html()\n",
    "large_html = style_dataframe(sigma_eth_summary_lg, 3).to_html()\n",
    "display_side_by_side(small_html, large_html)"
   ]
  },
  {
   "cell_type": "markdown",
   "metadata": {},
   "source": [
    "**Edu**"
   ]
  },
  {
   "cell_type": "code",
   "execution_count": null,
   "metadata": {},
   "outputs": [],
   "source": [
    "beta_edu_summary = summarize_predictor(small_data_fits_summary, 'beta_edu\\[')\n",
    "beta_edu_summary_lg = summarize_predictor(large_data_fits_summary, 'beta_edu\\[')"
   ]
  },
  {
   "cell_type": "code",
   "execution_count": null,
   "metadata": {},
   "outputs": [],
   "source": [
    "small_html = style_dataframe(beta_edu_summary, 3).to_html()\n",
    "large_html = style_dataframe(beta_edu_summary_lg, 3).to_html()\n",
    "display_side_by_side(small_html, large_html)"
   ]
  },
  {
   "cell_type": "code",
   "execution_count": null,
   "metadata": {},
   "outputs": [],
   "source": [
    "print(\"params\", true_params['beta_edu'], \"\\npcts\", true_params['pct_edu'])"
   ]
  },
  {
   "cell_type": "code",
   "execution_count": null,
   "metadata": {},
   "outputs": [],
   "source": [
    "sigma_edu_summary = summarize_predictor(small_data_fits_summary, 'sigma_edu')\n",
    "sigma_edu_summary_lg = summarize_predictor(large_data_fits_summary, 'sigma_edu')\n",
    "\n",
    "small_html = style_dataframe(sigma_edu_summary, 3).to_html()\n",
    "large_html = style_dataframe(sigma_edu_summary_lg, 3).to_html()\n",
    "display_side_by_side(small_html, large_html)"
   ]
  },
  {
   "cell_type": "markdown",
   "metadata": {},
   "source": [
    "**Age**"
   ]
  },
  {
   "cell_type": "code",
   "execution_count": null,
   "metadata": {},
   "outputs": [],
   "source": [
    "beta_age_summary = summarize_predictor(small_data_fits_summary, 'beta_age\\[')\n",
    "beta_age_summary_lg = summarize_predictor(large_data_fits_summary, 'beta_age\\[')"
   ]
  },
  {
   "cell_type": "code",
   "execution_count": null,
   "metadata": {},
   "outputs": [],
   "source": [
    "small_html = style_dataframe(beta_age_summary, 3).to_html()\n",
    "large_html = style_dataframe(beta_age_summary_lg, 3).to_html()\n",
    "display_side_by_side(small_html, large_html)"
   ]
  },
  {
   "cell_type": "code",
   "execution_count": null,
   "metadata": {},
   "outputs": [],
   "source": [
    "print(\"params\", true_params['beta_age'], \"\\npcts\", true_params['pct_age'])"
   ]
  },
  {
   "cell_type": "code",
   "execution_count": null,
   "metadata": {},
   "outputs": [],
   "source": [
    "sigma_age_summary = summarize_predictor(small_data_fits_summary, 'sigma_age')\n",
    "sigma_age_summary_lg = summarize_predictor(large_data_fits_summary, 'sigma_age')\n",
    "\n",
    "small_html = style_dataframe(sigma_age_summary, 3).to_html()\n",
    "large_html = style_dataframe(sigma_age_summary_lg, 3).to_html()\n",
    "display_side_by_side(small_html, large_html)"
   ]
  },
  {
   "cell_type": "markdown",
   "metadata": {},
   "source": [
    "All models have R-hat values of 1.00 for all group-level parameters and high effective sample sizes.\n",
    "\n",
    "Comparison with the true parameters shows that the model recovers the sign of the parameter, but not the exact value.\n",
    "With more data and only a few categories, the model does a better job of recovering the true parameters.\n",
    "\n",
    "In almost all cases, estimates for each parameter are the same across implementations to 2 significant figures.\n",
    "In a few cases they are off by 0.01; where they are off, the percentage of observations for that parameter is correspondingly low.\n",
    "This is as expected; all three implementations of the sum-to-zero constraint do the same thing;\n",
    "the `sum_to_zero_vector` implementation is both fast and efficient.\n",
    "\n",
    "#### Calibration check\n",
    "\n",
    "All models contain a `generated quantities` block, which creates `y_rep`,\n",
    "the [posterior predictive sample](https://mc-stan.org/docs/stan-users-guide/posterior-prediction.html).\n",
    "If the model is well-calibrated for the data, \n",
    "we expect that at least 50% of the time the observed value of `y` will fall in the central 50% interval of the `y_rep` sample estimates."
   ]
  },
  {
   "cell_type": "code",
   "execution_count": null,
   "metadata": {},
   "outputs": [],
   "source": [
    "from utils_dataviz import ppc_central_interval\n",
    "\n",
    "y_rep_ozs = binomial_ozs_fit.y_rep.astype(int)\n",
    "print(\"sum_to_zero_vector fit\", ppc_central_interval(y_rep_ozs, sim_data.pos_tests[0]))\n",
    "\n",
    "y_rep_hard = binomial_hard_fit.y_rep.astype(int)\n",
    "print(\"Hard sum-to-zero fit\", ppc_central_interval(y_rep_hard, sim_data.pos_tests[0]))\n",
    "\n",
    "y_rep_soft = binomial_soft_fit.y_rep.astype(int)\n",
    "print(\"Soft sum-to-zero fit\", ppc_central_interval(y_rep_soft, sim_data.pos_tests[0]))"
   ]
  },
  {
   "cell_type": "markdown",
   "metadata": {},
   "source": [
    "#### Prior predictive checks\n",
    "\n",
    "Prior and posterior predictive checks are two cases of the general concept of predictive checks,\n",
    "just conditioning on different things (no data and the observed data, respectively).\n",
    "In the previous section, we compared the `y_rep`, the replicated dataset, with the\n",
    "observed dataset `y`.\n",
    "\n",
    "[Prior predictive checks](https://mc-stan.org/docs/stan-users-guide/posterior-predictive-checks.html#prior-predictive-checks)\n",
    "simulate data directly from the prior, in the absense of any observed data.\n",
    "The resulting datasets, often called `y_sim`, instead of `y_rep`,\n",
    "show the possible range of data that is consistent with the priors.\n",
    "Here we use the simulated dataset to examine the prior marginal variances\n",
    "of the elements of the sum-to-zero vector under the hard-sum-to-zero constraint\n",
    "and the built-in `sum_to_zero` transform.\n",
    "\n",
    "Just as we wrote a Stan program corresponding to the true data-generating model,\n",
    "resulting in the observed data `y`, we can write a Stan program which\n",
    "simply omits the likelihood statement from the model block, as well as any\n",
    "corresponding computations in the transformed parameters and generated quantities block.\n",
    "\n",
    "To do this, we delete the likelihood statement, and any statements that generate auxiliary variables it needs.\n",
    "The model parameters block is unchanged.\n",
    "The model is in file [binomial_4preds_ozs_ppc.stan](https://github.com/stan-dev/example-models/tree/master/jupyter/sum-to-zero/stan/binomial_4preds_ozs_ppc.stan).\n",
    "\n",
    "**binomial_4preds_ozs_ppc.stan**\n",
    "\n",
    "```stan\n",
    "// generate sample from model priors, (before seeing any data)\n",
    "data {\n",
    "  int<lower=1> N; // number of strata\n",
    "  int<lower=1> N_age;\n",
    "  int<lower=1> N_eth;\n",
    "  int<lower=1> N_edu;\n",
    "  // omit observational data\n",
    "}\n",
    "transformed data {\n",
    "  // scaling factors for marginal variances of sum_to_zero_vectors\n",
    "  // https://discourse.mc-stan.org/t/zero-sum-vector-and-normal-distribution/38296\n",
    "  real s_age = sqrt(N_age * inv(N_age - 1));\n",
    "  real s_eth = sqrt(N_eth * inv(N_eth - 1));\n",
    "  real s_edu = sqrt(N_edu * inv(N_edu - 1));\n",
    "}\n",
    "parameters {\n",
    "  real beta_0;\n",
    "  real beta_sex;\n",
    "  real<lower=0> sigma_age, sigma_eth, sigma_edu;\n",
    "  sum_to_zero_vector[N_age] beta_age;\n",
    "  sum_to_zero_vector[N_eth] beta_eth;\n",
    "  sum_to_zero_vector[N_edu] beta_edu;\n",
    "}\n",
    "model {\n",
    "  // omit likelihood\n",
    "  // priors\n",
    "  beta_0 ~ normal(0, 2.5);\n",
    "  beta_sex ~ std_normal();\n",
    "  sigma_eth ~ std_normal();\n",
    "  sigma_age ~ std_normal();\n",
    "  sigma_edu ~ std_normal();\n",
    "\n",
    "  // centered parameterization\n",
    "  // scale normal priors on sum_to_zero_vectors\n",
    "  beta_age ~ normal(0, s_age * sigma_age);\n",
    "  beta_eth ~ normal(0, s_eth * sigma_eth);\n",
    "  beta_edu ~ normal(0, s_edu * sigma_edu);\n",
    "}\n",
    "```\n",
    "\n",
    "Running this model will produce a sample of draws according to the prior distribution; from this we can infer the range of possible parameter values which are consistent with these priors."
   ]
  },
  {
   "cell_type": "code",
   "execution_count": null,
   "metadata": {},
   "outputs": [],
   "source": [
    "binomial_ozs_ppc_mod = CmdStanModel(stan_file=os.path.join('stan', 'binomial_4preds_ozs_ppc.stan'))\n",
    "binomial_ozs_ppc_fit = binomial_ozs_ppc_mod.sample(data=data_small, parallel_chains=4, seed=a_seed)"
   ]
  },
  {
   "cell_type": "code",
   "execution_count": null,
   "metadata": {},
   "outputs": [],
   "source": [
    "binomial_hard_ppc_mod = CmdStanModel(stan_file=os.path.join('stan', 'binomial_4preds_hard_ppc.stan'))\n",
    "binomial_hard_ppc_fit = binomial_hard_ppc_mod.sample(data=data_small, parallel_chains=4, seed=a_seed)"
   ]
  },
  {
   "cell_type": "markdown",
   "metadata": {},
   "source": [
    "Without any data, the sampler has many [divergent transitions](https://mc-stan.org/docs/reference-manual/mcmc.html#divergent-transitions)\n",
    "because these priors are putting positive probability on regions of the parameter space with high curvature and / or low numerical accuracy;\n",
    "however, conditional on the data, those regions have zero probability, cf: [this discussion](https://discourse.mc-stan.org/t/meaning-of-divergences-in-prior-predictive-checks/10759/3).\n",
    "\n",
    "Here, we are interested in the marginal variances of the elements of the sum-to-zero effect, in order to investigate the correlation of the constrained parameters, i.e., the $N^{th}$ element, so we ignore these warnings, since we know that with data, these warnings go away.\n",
    "\n",
    "**Marginal variances of the built-in `zero_sum_vector`**"
   ]
  },
  {
   "cell_type": "code",
   "execution_count": null,
   "metadata": {},
   "outputs": [],
   "source": [
    "age_ozs = binomial_ozs_ppc_fit.beta_age\n",
    "np.var(age_ozs, axis=0)"
   ]
  },
  {
   "cell_type": "markdown",
   "metadata": {},
   "source": [
    "**Marginal variances of the hard sum-to-zero constraint**"
   ]
  },
  {
   "cell_type": "code",
   "execution_count": null,
   "metadata": {},
   "outputs": [],
   "source": [
    "age_hard = binomial_hard_ppc_fit.beta_age\n",
    "np.var(age_hard, axis=0)"
   ]
  },
  {
   "cell_type": "markdown",
   "metadata": {},
   "source": [
    "By simulating data from the priors, we can see how the hard sum-to-zero constraint distorts the variance of the $N^{th}$ element.\n",
    "This is only a problem for very sparse datasets, where the prior swamps the data.\n",
    "To see this, we fit both models to the tiny dataset.\n"
   ]
  },
  {
   "cell_type": "code",
   "execution_count": null,
   "metadata": {},
   "outputs": [],
   "source": [
    "binomial_ozs_fit_tiny = binomial_ozs_mod.sample(data=data_tiny, parallel_chains=4, seed=a_seed)\n",
    "binomial_hard_fit_tiny = binomial_hard_mod.sample(data=data_tiny, parallel_chains=4, seed=a_seed)"
   ]
  },
  {
   "cell_type": "code",
   "execution_count": null,
   "metadata": {},
   "outputs": [],
   "source": [
    "age_ozs_tiny = binomial_ozs_fit_tiny.beta_age\n",
    "marginal_vars_ozs = np.var(age_ozs, axis=0)\n",
    "age_hard_tiny = binomial_hard_fit_tiny.beta_age\n",
    "marginal_vars_hard = np.var(age_hard, axis=0)\n",
    "print(\"Tiny dataset, marginal variances beta age - sum_to_zero_vector\\n\", marginal_vars_ozs)\n",
    "print(\"\\n\\nTiny dataet, marginal variances beta age - hard sum-to-zero constraint\\n\", marginal_vars_hard)"
   ]
  },
  {
   "cell_type": "markdown",
   "metadata": {},
   "source": [
    "With more data, this problem goes away.\n",
    "To see this, we compare the marginal variances from the small dataset fits.\n"
   ]
  },
  {
   "cell_type": "code",
   "execution_count": null,
   "metadata": {},
   "outputs": [],
   "source": [
    "age_ozs = binomial_ozs_fit.beta_age\n",
    "marginal_vars_ozs = np.var(age_ozs, axis=0)\n",
    "age_hard = binomial_hard_fit.beta_age\n",
    "marginal_vars_hard = np.var(age_hard, axis=0)\n",
    "print(\"Small dataset, marginal variances beta age - sum_to_zero_vector\\n\", marginal_vars_ozs)\n",
    "print(\"\\n\\nSmall dataset, marginal variances beta age - hard sum-to-zero constraint\\n\", marginal_vars_hard)"
   ]
  },
  {
   "cell_type": "markdown",
   "metadata": {},
   "source": [
    "### Discussion\n",
    "\n",
    "* For a multi-level model group-level categorical predictors the `sum_to_zero_vector` provides fast results and good effective sample sizes for both datasets.\n",
    "\n",
    "* Model [binomial_4_preds_ozs.stan](https://github.com/stan-dev/example-models/tree/master/jupyter/sum-to-zero/stan/binomial_4_preds_ozs.stan)\n",
    "shows how to properly scale the variance of a `sum_to_zero_vector` constrained parameter\n",
    "in order to put a standard normal prior on it.\n",
    "\n",
    "**Workflow Practices**\n",
    "\n",
    "* Prior predictive checks demonstrate the difference between the marginal variances of\n",
    "the `sum_to_zero_vector` and hard sum-to-zero implementations.\n",
    "\n",
    "* Posterior predictive checks to demonstrate that the model is well-calibrated to the data.\n",
    "\n",
    "\n",
    "\n",
    "\n",
    "## Spatial Models with an ICAR component\n",
    "\n",
    "Spatial auto-correlation is the tendency for adjacent areas to share similar characteristics.\n",
    "Conditional Auto-Regressive (CAR) and Intrinsic Conditional Auto-Regressive (ICAR) models,\n",
    "first introduced by Besag, 1974, account for this by pooling information from neighboring regions.\n",
    "The BYM model, (Besag, York, Mollié, 1991) extends a lognormal Poisson model\n",
    "plus ICAR component for spatial auto-correlation by adding an ordinary\n",
    "random-effects component for non-spatial heterogeneity.\n",
    "The BYM2 model builds on this model and subsequent refinements.\n",
    "\n",
    "The ICAR, BYM2, and BYM2_multicomp models are more fully explained in a series of notebooks\n",
    "available from GitHub repo:  [https://github.com/mitzimorris/geomed_2024](https://github.com/mitzimorris/geomed_2024), see notebooks:\n",
    "\n",
    "* [The ICAR model in Stan](https://github.com/mitzimorris/geomed_2024/blob/main/python-notebooks/h4_icar.ipynb)\n",
    "* [The BYM2 model in Stan](https://github.com/mitzimorris/geomed_2024/blob/main/python-notebooks/h5_bym2.ipynb)\n",
    "* [The BYM2_multicomp model in Stan](https://github.com/mitzimorris/geomed_2024/blob/main/python-notebooks/h6_bym2_multicomp.ipynb)\n",
    "\n",
    "\n",
    "### Example dataset:  New York City traffic accidents\n",
    "\n",
    "The dataset we're using is that used in the analysis published in 2019\n",
    "[Bayesian Hierarchical Spatial Models: Implementing the Besag York Mollié Model in Stan](https://www.sciencedirect.com/science/article/pii/S1877584518301175).\n",
    "\n",
    "The data consists of motor vehicle collisions in New York City,\n",
    "as recorded by the NYC Department of Transportation, between the years 2005-2014,\n",
    "restricted to collisions involving school age children 5-18 years of age as pedestrians.\n",
    "Each crash was localized to the US Census tract in which it occurred, using boundaries from the 2010 United States Census,\n",
    "using the [2010 Census block map for New York City](https://data.cityofnewyork.us/City-Government/2010-Census-Blocks/v2h8-6mxf).  File `data/nyc_study.geojson` contains the study data and census tract ids and geometry."
   ]
  },
  {
   "cell_type": "code",
   "execution_count": null,
   "metadata": {},
   "outputs": [],
   "source": [
    "nyc_geodata = gpd.read_file(os.path.join('data', 'nyc_study.geojson'))\n",
    "nyc_geodata.columns\n",
    "nyc_geodata[['BoroName', 'NTAName', 'count', 'kid_pop']].head(4)"
   ]
  },
  {
   "cell_type": "markdown",
   "metadata": {},
   "source": [
    "The shapefiles from the Census Bureau connect Manhattan to Brooklyn and Queens, but for this analysis, Manhattan is quite separate from Brooklyn and Queens.  Getting the data assembled in the order required for our analysis requires data munging, encapsulated in the Python functions in file `utils_nyc_map.py`.\n",
    "The function `nyc_sort_by_comp_size` removes any neighbor pairs between tracts in Manhattan and any tracts in Brooklyn or Queens and updates the neighbor graph accordingly.  It returns a clean neighbor graph and the corresponding geodataframe, plus a list of the component sizes.   The list is sorted so that the largest component (Brooklyn and Queens) is first, and singleton nodes are last."
   ]
  },
  {
   "cell_type": "code",
   "execution_count": null,
   "metadata": {},
   "outputs": [],
   "source": [
    "from utils_nyc_map import nyc_sort_by_comp_size\n",
    "\n",
    "(nyc_nbs, nyc_gdf, nyc_comp_sizes) = nyc_sort_by_comp_size(nyc_geodata)\n",
    "nyc_comp_sizes"
   ]
  },
  {
   "cell_type": "markdown",
   "metadata": {},
   "source": [
    "To check our work we examine both the geodataframe and the map."
   ]
  },
  {
   "cell_type": "code",
   "execution_count": null,
   "metadata": {},
   "outputs": [],
   "source": [
    "nyc_gdf[['BoroName', 'NTAName', 'count', 'kid_pop']].head(4)"
   ]
  },
  {
   "cell_type": "code",
   "execution_count": null,
   "metadata": {},
   "outputs": [],
   "source": [
    "nyc_gdf[['BoroName', 'NTAName', 'count', 'kid_pop']].tail(4)"
   ]
  },
  {
   "cell_type": "code",
   "execution_count": null,
   "metadata": {},
   "outputs": [],
   "source": [
    "from splot.libpysal import plot_spatial_weights \n",
    "plot_spatial_weights(nyc_nbs, nyc_gdf)"
   ]
  },
  {
   "cell_type": "markdown",
   "metadata": {},
   "source": [
    "### Model 1: The BYM2 model,  Riebler et al. 2016\n",
    "\n",
    "The key element of the BYM2 model is the ICAR component.\n",
    "Its conditional specification is a\n",
    "multivariate normal random vector $\\mathbf{\\phi}$\n",
    "where each ${\\phi}_i$ is conditional on the values of its neighbors.\n",
    "\n",
    "The joint specification rewrites to a _Pairwise Difference_,\n",
    "\n",
    "$$ p(\\phi) \\propto \\exp \\left\\{ {- \\frac{1}{2}} \\sum_{i \\sim j}{({\\phi}_i - {\\phi}_j)}^2 \\right\\} $$\n",
    "\n",
    "Each ${({\\phi}_i - {\\phi}_j)}^2$ contributes a\n",
    "penalty term based on the distance between the values of neighboring regions.\n",
    "However, $\\phi$ is non-identifiable, constant added to $\\phi$ washes out of ${\\phi}_i - {\\phi}_j$.\n",
    "Therefore, a sum-to-zero constraint is needed to both identify and center $\\phi$.\n",
    "\n",
    "The Stan implementation of the ICAR component computes the sum of the pairwise distances\n",
    "by representing the spatial adjacency matrix as a array of pairs of neighbor indices.\n",
    "\n",
    "```stan\n",
    "data {\n",
    "  ...\n",
    "  // spatial structure\n",
    "  int<lower = 0> N_edges;  // number of neighbor pairs\n",
    "  array[2, N_edges] int<lower = 1, upper = N> neighbors;  // columnwise adjacent\n",
    "```\n",
    "\n",
    "The ICAR prior comes into the model as parameter `phi`.\n",
    "```stan\n",
    "model {\n",
    "  ...\n",
    "  target += -0.5 * dot_self(phi[neighbors[1]] - phi[neighbors[2]]);  // ICAR prior\n",
    "```\n",
    "\n",
    "In this section, we compare three ways of implementing the sum-to-zero constraint on `phi`.\n",
    "\n",
    "* In model [bym2_ozs.stan](https://github.com/stan-dev/example-models/tree/master/jupyter/sum-to-zero/stan/bym2_ozs.stan), `phi` is declared as a `sum_to_zero_vector`.\n",
    "\n",
    "* In model [bym2_hard.stan](https://github.com/stan-dev/example-models/tree/master/jupyter/sum-to-zero/stan/bym2_hard.stan), `phi_raw` is the unconstrained parameter of size `N - 1`,\n",
    "and the N-length parameter `phi` is computed in the `transformed parameters` block.\n",
    "\n",
    "* In model [bym2_soft.stan](https://github.com/stan-dev/example-models/tree/master/jupyter/sum-to-zero/stan/bym2_soft.stan), `phi` is declared as an ordinary vector,\n",
    "and the sum-to-zero constraint is combined with the prior:\n",
    "\n",
    "```stan\n",
    "  target += (-0.5 * dot_self(phi[neighbors[1]] - phi[neighbors[2]])\n",
    "\t     + normal_lupdf(sum(phi) | 0, 0.001 * rows(phi)));\n",
    "```\n",
    "\n",
    "The ICAR model requires that the neighbor graph is fully connected for two reasons:\n",
    "\n",
    "* The joint distribution is computed from the pairwise differences between a node and its neighbors;\n",
    "singleton nodes have no neighbors and are therefore undefined.\n",
    "\n",
    "* Even if the graph doesn't have any singleton nodes, when the graph has multiple connected components\n",
    "a sum-to-zero constraint on the entire vector fails to properly identify the model.\n",
    "\n",
    "Because the BYM2 model includes an ICAR component, it too requires a fully connected neighbor graph.\n",
    "We can either artificially connect the map, or we can analyze the NYC dataset on a per-component basis,\n",
    "starting with the largest component which encompasses Brooklyn and Queens (excepting the Rockaways)."
   ]
  },
  {
   "cell_type": "code",
   "execution_count": null,
   "metadata": {},
   "outputs": [],
   "source": [
    "from libpysal.weights import Queen\n",
    "brklyn_qns_gdf = nyc_gdf[nyc_gdf['comp_id']==0].reset_index(drop=True)\n",
    "brklyn_qns_nbs = Queen.from_dataframe(brklyn_qns_gdf , geom_col='geometry')\n",
    "plot_spatial_weights(brklyn_qns_nbs, brklyn_qns_gdf ) \n",
    "\n",
    "print(f'number of components: {brklyn_qns_nbs.n_components}')\n",
    "print(f'islands? {brklyn_qns_nbs.islands}')\n",
    "print(f'max number of neighbors per node: {brklyn_qns_nbs.max_neighbors}')\n",
    "print(f'mean number of neighbors per node: {brklyn_qns_nbs.mean_neighbors}')"
   ]
  },
  {
   "cell_type": "markdown",
   "metadata": {},
   "source": [
    "#### Data assembly\n",
    "\n",
    "The inputs to the BYM2 model are\n",
    "\n",
    "* The Poisson regression data\n",
    "\n",
    "   + `int<lower=0> N` - number of regions\n",
    "   + `array[N] int<lower=0> y` - per-region count outcome\n",
    "   + `vector<lower=0>[N] E` - the population of each region (a.k.a. \"exposure\"),\n",
    "   + `int<lower=1> K` - the number of predictors\n",
    "   + `matrix[N, K] xs` - the design matrix\n",
    "\n",
    "* The spatial structure\n",
    "\n",
    "  + `int<lower = 0> N_edges` - the number of neighbor pairs\n",
    "  + `array[2, N_edges] int<lower = 1, upper = N> neighbors` - the graph structure\n",
    "  + `real tau` - the scaling factor, introduced in the BYM2\n",
    "\n",
    "The scaling factor `tau` was introduced by Riebler et al so that the\n",
    "variance of the spatial and ordinary random effects are both approximately equal to 1,\n",
    "thus allowing for a straightforward estimate of the amount of spatial and non-spatial variance.\n",
    "We have written a helper function called `get_scaling_factor`, in file `utils_bym2.py`\n",
    "which takes as its argument the neighbor graph and computes the geometric mean of the\n",
    "corresponding adjacency matrix."
   ]
  },
  {
   "cell_type": "code",
   "execution_count": null,
   "metadata": {},
   "outputs": [],
   "source": [
    "from utils_bym2 import get_scaling_factor, nbs_to_adjlist\n",
    "\n",
    "# design matrix\n",
    "design_vars = np.array(['pct_pubtransit','med_hh_inc', 'traffic', 'frag_index'])\n",
    "design_mat = brklyn_qns_gdf[design_vars].to_numpy()\n",
    "design_mat[:, 1] = np.log(design_mat[:, 1])\n",
    "design_mat[:, 2] = np.log(design_mat[:, 2])\n",
    "\n",
    "# neighbors array\n",
    "brklyn_qns_nbs_adj = nbs_to_adjlist(brklyn_qns_nbs)\n",
    "\n",
    "# scaling factor\n",
    "tau = get_scaling_factor(brklyn_qns_nbs)\n",
    "\n",
    "brklyn_qns_data = {\"N\":brklyn_qns_gdf.shape[0],\n",
    "            \"y\":brklyn_qns_gdf['count'].astype('int'),\n",
    "            \"E\":brklyn_qns_gdf['kid_pop'].astype('int'),\n",
    "            \"K\":4,\n",
    "            \"xs\":design_mat,\n",
    "            \"N_edges\": brklyn_qns_nbs_adj.shape[1],\n",
    "            \"neighbors\": brklyn_qns_nbs_adj,\n",
    "            \"tau\": tau\n",
    "}"
   ]
  },
  {
   "cell_type": "markdown",
   "metadata": {},
   "source": [
    "#### Model fitting\n",
    "\n",
    "These models require larger numbers of warmup iterations in order to reach convergence for all parameters,\n",
    "including hyperparameters `rho` and `sigma`."
   ]
  },
  {
   "cell_type": "code",
   "execution_count": null,
   "metadata": {},
   "outputs": [],
   "source": [
    "bym2_ozs_mod = CmdStanModel(stan_file=os.path.join('stan', 'bym2_ozs.stan'))\n",
    "brklyn_qns_ozs_fit = bym2_ozs_mod.sample(data=brklyn_qns_data, iter_warmup=5000)"
   ]
  },
  {
   "cell_type": "code",
   "execution_count": null,
   "metadata": {},
   "outputs": [],
   "source": [
    "a_seed = brklyn_qns_ozs_fit.metadata.cmdstan_config['seed']"
   ]
  },
  {
   "cell_type": "code",
   "execution_count": null,
   "metadata": {},
   "outputs": [],
   "source": [
    "bym2_soft_mod = CmdStanModel(stan_file=os.path.join('stan', 'bym2_soft.stan'))\n",
    "brklyn_qns_soft_fit = bym2_soft_mod.sample(data=brklyn_qns_data, iter_warmup=5000, seed=a_seed)"
   ]
  },
  {
   "cell_type": "code",
   "execution_count": null,
   "metadata": {},
   "outputs": [],
   "source": [
    "bym2_hard_mod = CmdStanModel(stan_file=os.path.join('stan', 'bym2_hard.stan'))\n",
    "brklyn_qns_hard_fit = bym2_hard_mod.sample(data=brklyn_qns_data, iter_warmup=5000, seed=a_seed)"
   ]
  },
  {
   "cell_type": "markdown",
   "metadata": {},
   "source": [
    "#### Model Comparison\n",
    "\n",
    "Get summaries and compare fits."
   ]
  },
  {
   "cell_type": "code",
   "execution_count": null,
   "metadata": {},
   "outputs": [],
   "source": [
    "brklyn_qns_ozs_summary = brklyn_qns_ozs_fit.summary()\n",
    "brklyn_qns_ozs_summary.index =  brklyn_qns_ozs_summary.index.astype(str) + \"  a) ozs\"\n",
    "ozs_fit_time = brklyn_qns_ozs_fit.time\n",
    "ozs_total_time = 0\n",
    "for i in range(len(ozs_fit_time)):\n",
    "    ozs_total_time += ozs_fit_time[i]['total']\n",
    "brklyn_qns_ozs_summary['ESS/sec'] = brklyn_qns_ozs_summary['ESS_bulk']/ozs_total_time\n",
    "\n",
    "\n",
    "brklyn_qns_hard_summary = brklyn_qns_hard_fit.summary()\n",
    "brklyn_qns_hard_summary.index = brklyn_qns_hard_summary.index.astype(str) + \"  b) hard\"\n",
    "hard_fit_time = brklyn_qns_hard_fit.time\n",
    "hard_total_time = 0\n",
    "for i in range(len(hard_fit_time)):\n",
    "    hard_total_time += hard_fit_time[i]['total']\n",
    "brklyn_qns_hard_summary['ESS/sec'] = brklyn_qns_hard_summary['ESS_bulk']/hard_total_time\n",
    "\n",
    "brklyn_qns_soft_summary = brklyn_qns_soft_fit.summary()\n",
    "brklyn_qns_soft_summary.index = brklyn_qns_soft_summary.index.astype(str) + \"  c) soft\"\n",
    "soft_fit_time = brklyn_qns_soft_fit.time\n",
    "soft_total_time = 0\n",
    "for i in range(len(soft_fit_time)):\n",
    "    soft_total_time += soft_fit_time[i]['total']\n",
    "brklyn_qns_soft_summary['ESS/sec'] = brklyn_qns_soft_summary['ESS_bulk']/soft_total_time\n",
    "\n",
    "brklyn_qns_fits_summary = pd.concat([brklyn_qns_ozs_summary, brklyn_qns_hard_summary, brklyn_qns_soft_summary])"
   ]
  },
  {
   "cell_type": "code",
   "execution_count": null,
   "metadata": {},
   "outputs": [],
   "source": [
    "beta_summary = summarize_predictor(brklyn_qns_fits_summary, 'beta')\n",
    "sigma_summary = summarize_predictor(brklyn_qns_fits_summary, 'sigma')\n",
    "rho_summary = summarize_predictor(brklyn_qns_fits_summary, 'rho')\n",
    "\n",
    "brklyn_qns_summary = pd.concat([beta_summary, sigma_summary, rho_summary])"
   ]
  },
  {
   "cell_type": "code",
   "execution_count": null,
   "metadata": {},
   "outputs": [],
   "source": [
    "display(HTML(style_dataframe(brklyn_qns_summary, 3).to_html()))"
   ]
  },
  {
   "cell_type": "markdown",
   "metadata": {},
   "source": [
    "We can repeat this procedure with the next largest component, the Bronx (excepting City Island),\n",
    "which has 329 regions, roughly 1/3 of the size of Brooklyn-Queens, with 1360 regions."
   ]
  },
  {
   "cell_type": "code",
   "execution_count": null,
   "metadata": {},
   "outputs": [],
   "source": [
    "bronx_gdf = nyc_gdf[nyc_gdf['comp_id']==1].reset_index(drop=True)\n",
    "print(f'number of regions: {bronx_gdf.shape[0]}')\n",
    "bronx_nbs = Queen.from_dataframe(bronx_gdf , geom_col='geometry')\n",
    "plot_spatial_weights(bronx_nbs, bronx_gdf ) \n",
    "\n",
    "print(f'number of components: {bronx_nbs.n_components}')\n",
    "print(f'islands? {bronx_nbs.islands}')\n",
    "print(f'max number of neighbors per node: {bronx_nbs.max_neighbors}')\n",
    "print(f'mean number of neighbors per node: {bronx_nbs.mean_neighbors}')"
   ]
  },
  {
   "cell_type": "code",
   "execution_count": null,
   "metadata": {},
   "outputs": [],
   "source": [
    "# design matrix\n",
    "design_vars = np.array(['pct_pubtransit','med_hh_inc', 'traffic', 'frag_index'])\n",
    "design_mat = bronx_gdf[design_vars].to_numpy()\n",
    "design_mat[:, 1] = np.log(design_mat[:, 1])\n",
    "design_mat[:, 2] = np.log(design_mat[:, 2])\n",
    "\n",
    "# neighbors array\n",
    "bronx_nbs_adj = nbs_to_adjlist(bronx_nbs)\n",
    "\n",
    "# scaling factor\n",
    "tau = get_scaling_factor(bronx_nbs)\n",
    "\n",
    "bronx_data = {\"N\":bronx_gdf.shape[0],\n",
    "              \"y\":bronx_gdf['count'].astype('int'),\n",
    "              \"E\":bronx_gdf['kid_pop'].astype('int'),\n",
    "              \"K\":4,\n",
    "              \"xs\":design_mat,\n",
    "              \"N_edges\": bronx_nbs_adj.shape[1],\n",
    "              \"neighbors\": bronx_nbs_adj,\n",
    "              \"tau\": tau\n",
    "}"
   ]
  },
  {
   "cell_type": "code",
   "execution_count": null,
   "metadata": {},
   "outputs": [],
   "source": [
    "bronx_ozs_fit = bym2_ozs_mod.sample(data=bronx_data, iter_warmup=5000)"
   ]
  },
  {
   "cell_type": "code",
   "execution_count": null,
   "metadata": {},
   "outputs": [],
   "source": [
    "a_seed = bronx_ozs_fit.metadata.cmdstan_config['seed']"
   ]
  },
  {
   "cell_type": "code",
   "execution_count": null,
   "metadata": {},
   "outputs": [],
   "source": [
    "bronx_soft_fit = bym2_soft_mod.sample(data=bronx_data, iter_warmup=5000, seed=a_seed)"
   ]
  },
  {
   "cell_type": "code",
   "execution_count": null,
   "metadata": {},
   "outputs": [],
   "source": [
    "bronx_hard_fit = bym2_hard_mod.sample(data=bronx_data, iter_warmup=5000, seed=a_seed)"
   ]
  },
  {
   "cell_type": "code",
   "execution_count": null,
   "metadata": {},
   "outputs": [],
   "source": [
    "bronx_ozs_summary = bronx_ozs_fit.summary()\n",
    "bronx_ozs_summary.index =  bronx_ozs_summary.index.astype(str) + \"  a) ozs\"\n",
    "ozs_fit_time = bronx_ozs_fit.time\n",
    "ozs_total_time = 0\n",
    "for i in range(len(ozs_fit_time)):\n",
    "    ozs_total_time += ozs_fit_time[i]['total']\n",
    "bronx_ozs_summary['ESS/sec'] = bronx_ozs_summary['ESS_bulk']/ozs_total_time\n",
    "\n",
    "\n",
    "bronx_hard_summary = bronx_hard_fit.summary()\n",
    "bronx_hard_summary.index = bronx_hard_summary.index.astype(str) + \"  b) hard\"\n",
    "hard_fit_time = bronx_hard_fit.time\n",
    "hard_total_time = 0\n",
    "for i in range(len(hard_fit_time)):\n",
    "    hard_total_time += hard_fit_time[i]['total']\n",
    "bronx_hard_summary['ESS/sec'] = bronx_hard_summary['ESS_bulk']/hard_total_time\n",
    "\n",
    "bronx_soft_summary = bronx_soft_fit.summary()\n",
    "bronx_soft_summary.index = bronx_soft_summary.index.astype(str) + \"  c) soft\"\n",
    "soft_fit_time = bronx_soft_fit.time\n",
    "soft_total_time = 0\n",
    "for i in range(len(soft_fit_time)):\n",
    "    soft_total_time += soft_fit_time[i]['total']\n",
    "bronx_soft_summary['ESS/sec'] = bronx_soft_summary['ESS_bulk']/soft_total_time\n",
    "\n",
    "bronx_fits_summary = pd.concat([bronx_ozs_summary, bronx_hard_summary, bronx_soft_summary])"
   ]
  },
  {
   "cell_type": "code",
   "execution_count": null,
   "metadata": {},
   "outputs": [],
   "source": [
    "beta_summary = summarize_predictor(bronx_fits_summary, 'beta')\n",
    "sigma_summary = summarize_predictor(bronx_fits_summary, 'sigma')\n",
    "rho_summary = summarize_predictor(bronx_fits_summary, 'rho')\n",
    "\n",
    "bronx_summary = pd.concat([beta_summary, sigma_summary, rho_summary])\n",
    "\n",
    "display(HTML(style_dataframe(bronx_summary, 3).to_html()))"
   ]
  },
  {
   "cell_type": "markdown",
   "metadata": {},
   "source": [
    "#### Discussion\n",
    "\n",
    "All implementations return almost identical estimates.\n",
    "The sum_to_zero_vector consistently has the fastest running time.\n",
    "The marginal variances of the spatial component `phi` are roughly the same across all models;\n",
    "presumably due to the fact that the ICAR prior is properly constraining the variances.\n",
    "\n",
    "### Model 2: The BYM2_multicomp model, Freni-Sterrantino et al, 2018\n",
    "\n",
    "In the previous section, we analyzed the New York City component-wise.\n",
    "This is highly unsatisfactory.\n",
    "In order to apply the BYM2 model to the full NYC dataset, it is necessary to\n",
    "extend the BYM2 model to account for disconnected components and singleton nodes.\n",
    "\n",
    "This has been done by Freni-Sterrantino et al. in 2018 for INLA, and presented in:\n",
    "[A note on intrinsic Conditional Autoregressive models for disconnected graphs](https://arxiv.org/abs/1705.04854).\n",
    "They provide the following recommendations:\n",
    "\n",
    "* Non-singleton nodes are given the BYM2 prior\n",
    "* Singleton nodes (islands) are given a standard Normal prior\n",
    "* Compute per-connected component scaling factor\n",
    "* **Impose a sum-to-zero constraint on each connected component**\n",
    "\n",
    "We have followed these recommendations and implemented this model in Stan.\n",
    "The full model is in file\n",
    "[bym2_multicomp.stan](https://github.com/stan-dev/example-models/tree/master/jupyter/sum-to-zero/stan/bym2_multicomp.stan).\n",
    "For an in-depth discussion of this model, see notebook\n",
    "* [The BYM2_multicomp model in Stan](https://github.com/mitzimorris/geomed_2024/blob/main/python-notebooks/h6_bym2_multicomp.ipynb)\n",
    "\n",
    "For this case study, we provide 2 implementations of the BYM2_multicomp model:\n",
    "one which uses the `sum_to_zero_vector` and one which implements the soft sum-to-zero constraint.\n",
    "\n",
    "It is necessary to constrain the  the elements of the spatial effects vector `phi` on a component-by-component basis.\n",
    "Stan's [slicing with range indexes](https://mc-stan.org/docs/stan-users-guide/multi-indexing.html#slicing-with-range-indexes),\n",
    "provides a way to efficiently access each component.\n",
    "The helper function `nyc_sort_by_comp_size` both sorts the study data by component and adds the component index to the geodataframe.\n",
    "\n",
    "In the BYM2 model for a fully connected graph the sum-to-zero constraint on `phi`\n",
    "is implemented directly by declaring `phi` to be a `sum_to_zero_vector`, which is a\n",
    "[constrained parameter type](https://mc-stan.org/docs/reference-manual/transforms.html#variable-transforms.chapter).\n",
    "The declaration:\n",
    "```stan\n",
    "  sum_to_zero_vector[N] phi;  // spatial effects\n",
    "```\n",
    "creates a *constrained* variable of length $N$, with a corresponding unconstrained variable of length $N-1$.\n",
    "\n",
    "In order to constrain slices of the parameter vector `phi`, we do the following:\n",
    "\n",
    "* In the `parameters` block, we declare the *unconstrained* parameter `phi_raw` as an regular vector `vector` (instead of a `sum_to_zero_vector`).\n",
    "    + For a fully connected graph of size $N$, the size of the unconstrained sum-to-zero vector is $N-1$.\n",
    "For a disconnected graph with $M$ non-singleton nodes, the size of `phi_raw` is $M$ minus the\n",
    "number of connected components.\n",
    "\n",
    "```stan\n",
    "  vector[N_connected - N_components] phi_raw;  // spatial effects\n",
    "```\n",
    "\n",
    "* In the `functions` block, we implement the unconstraining transform.\n",
    "\n",
    "\n",
    "* In the `transformed parameters` block, we apply the constraining transform.\n",
    "\n",
    "```stan\n",
    "  vector[N_connected] phi = zero_sum_components(phi_raw, component_idxs, component_sizes);\n",
    "```\n",
    "\n",
    "The constraining transform is broken into two functions:\n",
    "\n",
    "* function `zero_sum_constrain`, the actual constraining transform, which corresponds directly\n",
    "to the built-in `zero_sum_vector` transform.\n",
    "\n",
    "* function `zero_sum_constrain_components`, which handles the slicing, and calls `zero_sum_constrain` on each component.\n",
    "\n",
    "```stan\n",
    "  /**\n",
    "   * Constrain sum-to-zero vector\n",
    "   *\n",
    "   * @param y unconstrained zero-sum parameters\n",
    "   * @return vector z, the vector whose slices sum to zero\n",
    "   */\n",
    "  vector zero_sum_constrain(vector y) {\n",
    "    int N = num_elements(y);\n",
    "    vector[N + 1] z = zeros_vector(N + 1);\n",
    "    real sum_w = 0;\n",
    "    for (ii in 1:N) {\n",
    "      int i = N - ii + 1; \n",
    "      real n = i;\n",
    "      real w = y[i] * inv_sqrt(n * (n + 1));\n",
    "      sum_w += w;\n",
    "      z[i] += sum_w;     \n",
    "      z[i + 1] -= w * n;    \n",
    "    }\n",
    "    return z;\n",
    "  }\n",
    "```\n",
    "\n",
    "* `zero_sum_components`: slices vector `phi` by component, applies constraining transform to each.\n",
    "\n",
    "```stan\n",
    "  /**\n",
    "   * Component-wise constrain sum-to-zero vectors\n",
    "   *\n",
    "   * @param phi unconstrained vector of zero-sum slices\n",
    "   * @param idxs component start and end indices\n",
    "   * @param sizes component sizes\n",
    "   * @return vector phi_ozs, the vector whose slices sum to zero\n",
    "   */\n",
    "  vector zero_sum_components(vector phi,\n",
    "                                array[ , ] int idxs,\n",
    "                                array[] int sizes) {\n",
    "    vector[sum(sizes)] phi_ozs;\n",
    "    int idx_phi = 1;\n",
    "    int idx_ozs = 1;\n",
    "    for (i in 1:size(sizes)) {\n",
    "      phi_ozs[idx_ozs : idx_ozs + sizes[i] - 1] =\n",
    "        zero_sum_constrain(segment(phi, idx_phi, sizes[i] - 1));\n",
    "      idx_phi += sizes[i] - 1;\n",
    "      idx_ozs += sizes[i];\n",
    "    }\n",
    "    return phi_ozs;\n",
    "  }\n",
    "```\n",
    "\n",
    "<div class=\"alert alert-block alert-info\">\n",
    "The constraining transform is a linear operation, leading to a constant Jacobian determinant\n",
    "which is therefore not included.\n",
    "As of Stan 2.36, transforms which include a Jacobian adjustment can do so with the\n",
    "<code>jacobian +=</code> statement and must have names ending in <code>_jacobian</code>.\n",
    "See section\n",
    "<a href=https://mc-stan.org/docs/stan-users-guide/user-functions.html#functions-implementing-change-of-variable-adjustments>functions implementing change-of-variable adjustments</a> in the Stan User's Guide\n",
    "chapter on user-defined functions for details.\n",
    "</div>\n",
    "\n",
    "\n",
    "#### Data Assembly\n",
    "\n",
    "The helper function `nyc_soft_by_comp_size` adds component info to the geodataframe.\n",
    "It also returns the neighbor graph over the full dataset, plus a list of component sizes."
   ]
  },
  {
   "cell_type": "code",
   "execution_count": null,
   "metadata": {},
   "outputs": [],
   "source": [
    "from utils_nyc_map import nyc_sort_by_comp_size\n",
    "from utils_bym2 import nbs_to_adjlist, get_scaling_factors\n",
    "\n",
    "(nyc_nbs, nyc_gdf, nyc_comp_sizes) = nyc_sort_by_comp_size(nyc_geodata)\n",
    "\n",
    "# design matrix\n",
    "design_vars = np.array(['pct_pubtransit','med_hh_inc', 'traffic', 'frag_index'])\n",
    "design_mat = nyc_gdf[design_vars].to_numpy()\n",
    "design_mat[:, 1] = np.log(design_mat[:, 1])\n",
    "design_mat[:, 2] = np.log(design_mat[:, 2])\n",
    "\n",
    "# spatial structure\n",
    "nyc_nbs_adj = nbs_to_adjlist(nyc_nbs)\n",
    "component_sizes = [x for x in nyc_comp_sizes if x > 1]\n",
    "scaling_factors = get_scaling_factors(len(component_sizes), nyc_gdf)"
   ]
  },
  {
   "cell_type": "markdown",
   "metadata": {},
   "source": [
    "We assemble all inputs into dictionary `bym2_multicomp_data`."
   ]
  },
  {
   "cell_type": "code",
   "execution_count": null,
   "metadata": {},
   "outputs": [],
   "source": [
    "bym2_multicomp_data = {\n",
    "    \"N\":nyc_gdf.shape[0],\n",
    "    \"y\":nyc_gdf['count'].astype('int'),\n",
    "    \"E\":nyc_gdf['kid_pop'].astype('int'),\n",
    "    \"K\":4,\n",
    "    \"xs\":design_mat,\n",
    "    \"N_edges\": nyc_nbs_adj.shape[1],\n",
    "    \"neighbors\": nyc_nbs_adj,\n",
    "    \"N_components\": len(component_sizes),\n",
    "    \"component_sizes\": component_sizes,\n",
    "    \"scaling_factors\": scaling_factors\n",
    "}"
   ]
  },
  {
   "cell_type": "markdown",
   "metadata": {},
   "source": [
    "#### Model Fitting"
   ]
  },
  {
   "cell_type": "code",
   "execution_count": null,
   "metadata": {},
   "outputs": [],
   "source": [
    "bym2_multicomp_ozs_file = os.path.join('stan', 'bym2_multicomp.stan')\n",
    "bym2_multicomp_ozs_mod = CmdStanModel(stan_file=bym2_multicomp_ozs_file)"
   ]
  },
  {
   "cell_type": "code",
   "execution_count": null,
   "metadata": {},
   "outputs": [],
   "source": [
    "bym2_multicomp_ozs_fit = bym2_multicomp_ozs_mod.sample(data=bym2_multicomp_data, iter_warmup=3000)"
   ]
  },
  {
   "cell_type": "code",
   "execution_count": null,
   "metadata": {},
   "outputs": [],
   "source": [
    "bym2_multicomp_ozs_summary = bym2_multicomp_ozs_fit.summary()\n",
    "ozs_fit_time = bym2_multicomp_ozs_fit.time\n",
    "ozs_total_time = 0\n",
    "for i in range(len(ozs_fit_time)):\n",
    "    ozs_total_time += ozs_fit_time[i]['total']\n",
    "bym2_multicomp_ozs_summary['ESS/sec'] = bym2_multicomp_ozs_summary['ESS_bulk']/ozs_total_time\n",
    "\n",
    "bym2_multicomp_ozs_summary[['Mean', 'StdDev', 'ESS_bulk', 'ESS/sec', 'R_hat']].round(2).loc[\n",
    "  ['beta_intercept', 'beta0', 'betas[1]', 'betas[2]', 'betas[3]', 'betas[4]', 'sigma', 'rho']]"
   ]
  },
  {
   "cell_type": "markdown",
   "metadata": {},
   "source": [
    "#### Model Comparison\n",
    "\n",
    "We can compare the `sum_to_zero_vector` implementation to the corresponding soft sum-to-zero constraint.\n",
    "The full model is in file [bym2_multicomp_soft.stan](https://github.com/stan-dev/example-models/tree/master/jupyter/sum-to-zero/stan/bym2_multicomp_soft.stan)\n",
    "\n",
    "\n",
    "In model [bym2_soft.stan](https://github.com/stan-dev/example-models/tree/master/jupyter/sum-to-zero/stan/bym2_soft.stan) \n",
    "the soft sum-to-zero constraint is combined directly with the ICAR prior:\n",
    "\n",
    "```stan\n",
    "  target += (-0.5 * dot_self(phi[neighbors[1]] - phi[neighbors[2]])\n",
    "\t     + normal_lupdf(sum(phi) | 0, 0.001 * rows(phi)));\n",
    "```\n",
    "\n",
    "For the BYM2_multicomp model, this operation is carried out in two steps.\n",
    "First the ICAR prior is applied to `phi`, next we iterate through the\n",
    "components, applying the sum-to-zero constraint to each in turn.\n",
    "\n",
    "```stan\n",
    "  target += -0.5 * dot_self(phi[neighbors[1]] - phi[neighbors[2]]);  // ICAR\n",
    "  for (n in 1:N_components) {   // component-wise sum-to-zero constraint\n",
    "    sum(phi[node_idxs[n, 1] : node_idxs[n, 2]]) ~ normal(0,\n",
    "\t\t\t\t\t\t\t 0.001 * component_sizes[n]);\n",
    "```\n",
    "\n",
    "The data inputs are the same.\n",
    "To ensure (roughly) the same initialization, we reuse the seed from `bym2_multicomp_ozs_fit`."
   ]
  },
  {
   "cell_type": "code",
   "execution_count": null,
   "metadata": {},
   "outputs": [],
   "source": [
    "a_seed = bym2_multicomp_ozs_fit.metadata.cmdstan_config['seed']"
   ]
  },
  {
   "cell_type": "code",
   "execution_count": null,
   "metadata": {},
   "outputs": [],
   "source": [
    "bym2_multicomp_soft_file = os.path.join('stan', 'bym2_multicomp_soft.stan')\n",
    "bym2_multicomp_soft_mod = CmdStanModel(stan_file=bym2_multicomp_soft_file)"
   ]
  },
  {
   "cell_type": "markdown",
   "metadata": {},
   "source": [
    "This model fits *very* slowly and requires increasing the `max_treedepth`; at the default setting,\n",
    "all iterations hit this limit."
   ]
  },
  {
   "cell_type": "code",
   "execution_count": null,
   "metadata": {},
   "outputs": [],
   "source": [
    "bym2_multicomp_soft_fit = bym2_multicomp_soft_mod.sample(data=bym2_multicomp_data, iter_warmup=3000, max_treedepth=14, seed=a_seed)"
   ]
  },
  {
   "cell_type": "code",
   "execution_count": null,
   "metadata": {},
   "outputs": [],
   "source": [
    "bym2_multicomp_soft_summary = bym2_multicomp_soft_fit.summary()"
   ]
  },
  {
   "cell_type": "markdown",
   "metadata": {},
   "source": [
    "We compare the result of both implementations."
   ]
  },
  {
   "cell_type": "code",
   "execution_count": null,
   "metadata": {},
   "outputs": [],
   "source": [
    "bym2_multicomp_ozs_summary.index =  bym2_multicomp_ozs_summary.index.astype(str) + \"  a) ozs\"\n",
    "\n",
    "bym2_multicomp_soft_summary.index =  bym2_multicomp_soft_summary.index.astype(str) + \"  b) soft\"\n",
    "soft_fit_time = bym2_multicomp_soft_fit.time\n",
    "soft_total_time = 0\n",
    "for i in range(len(soft_fit_time)):\n",
    "    soft_total_time += soft_fit_time[i]['total']\n",
    "bym2_multicomp_soft_summary['ESS/sec'] = bym2_multicomp_soft_summary['ESS_bulk']/soft_total_time\n",
    "\n",
    "bym2_multicomp_summary = pd.concat([bym2_multicomp_ozs_summary, bym2_multicomp_soft_summary])\n",
    "\n",
    "beta_summary = summarize_predictor(bym2_multicomp_summary, 'beta')\n",
    "sigma_summary = summarize_predictor(bym2_multicomp_summary, 'sigma')\n",
    "rho_summary = summarize_predictor(bym2_multicomp_summary, 'rho')\n",
    "nyc_summary = pd.concat([beta_summary, sigma_summary, rho_summary])"
   ]
  },
  {
   "cell_type": "code",
   "execution_count": null,
   "metadata": {},
   "outputs": [],
   "source": [
    "display(HTML(style_dataframe(nyc_summary, 2).to_html()))"
   ]
  },
  {
   "cell_type": "markdown",
   "metadata": {},
   "source": [
    "### Discussion\n",
    "\n",
    "The BYM2 model has more data and a relatively complex multilevel structure.\n",
    "Before Stan 2.36, for this model and dataset, the soft sum-to-zero constraint\n",
    "was much faster than the hard sum-to-zero constraint.  Here we show that the\n",
    "`sum_to_zero_vector` greatly improves the run time.\n",
    "\n",
    "For the BYM2_multicomp model, `stan/bym2_multicomp.stan` shows how to implement the `sum_to_zero_vector`\n",
    "constraining transform as a Stan function.\n",
    "A comparable implementation using the soft sum-to-zero implementation is painfully slow.\n",
    "Both implementation get exactly the same estimates, which simply confirms that\n",
    "both models are correctly implemented.\n",
    "The dramatic difference in run times speaks for itself.\n",
    "\n",
    "## Conclusion: the `sum_to_zero_vector` just works!\n",
    "\n",
    "The more complex the model, the greater the need for the `sum_to_zero_vector`.\n",
    "When considering the effective sample size, it is important to remember that\n",
    "what is most important is effective samples **per second**.\n",
    "In these experiments, the `sum_to_zero_vector` models consistently have the best wall-clock time\n",
    "and the highest ESS/sec.\n",
    "\n",
    "\n",
    "## References\n",
    "\n",
    "* Seybolt, 2024: [Add ZeroSumNormal distribution](https://github.com/pyro-ppl/numpyro/pull/1751#issuecomment-1980569811)\n",
    "\n",
    "* Gelman and Carpenter, 2020: [Bayesian Analysis of Tests with Unknown Specificity and Sensitivity](https://doi.org/10.1111/rssc.12435)\n",
    "\n",
    "* Riebler et al., 2016: [An intuitive Bayesian spatial model for disease mapping that accounts for scaling](https://arxiv.org/abs/1601.01180)\n",
    "\n",
    "* Freni-Sterrantino et al.,2018: [A note on intrinsic conditional autoregressive models for disconnected graphs](https://arxiv.org/pdf/1705.04854.pdf)\n",
    "\n",
    "* Morris et al., 2019: [Bayesian Hierarchical Spatial Models: Implementing the Besag York Mollié Model in Stan](https://www.sciencedirect.com/science/article/abs/pii/S1877584518301175)\n",
    "\n",
    "* Stan Development Team: [Stan Documentation Suite](https://mc-stan.org/docs/)\n"
   ]
  }
 ],
 "metadata": {
  "kernelspec": {
   "display_name": "Python 3 (ipykernel)",
   "language": "python",
   "name": "python3"
  },
  "language_info": {
   "codemirror_mode": {
    "name": "ipython",
    "version": 3
   },
   "file_extension": ".py",
   "mimetype": "text/x-python",
   "name": "python",
   "nbconvert_exporter": "python",
   "pygments_lexer": "ipython3",
   "version": "3.12.2"
  }
 },
 "nbformat": 4,
 "nbformat_minor": 4
}
